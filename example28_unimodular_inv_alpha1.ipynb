{
 "cells": [
  {
   "cell_type": "code",
   "execution_count": 1,
   "metadata": {},
   "outputs": [
    {
     "name": "stdout",
     "output_type": "stream",
     "text": [
      "[x₀  x₁  x₂  ẋ₀  ẋ₁  ẋ₂]\n"
     ]
    }
   ],
   "source": [
    "from helpme import *"
   ]
  },
  {
   "cell_type": "code",
   "execution_count": 2,
   "metadata": {},
   "outputs": [
    {
     "data": {
      "text/latex": [
       "$$\\left[\\begin{matrix}x_{1} & x_{2} & \\dot{x}_{1} & \\dot{x}_{2} & \\ddot{x}_{1} & \\ddot{x}_{2} & \\dddot{x}_{1} & \\dddot{x}_{2}\\end{matrix}\\right]$$"
      ],
      "text/plain": [
       "[x₁  x₂  ẋ₁  ẋ₂  ẍ₁  ẍ₂  ẍ̇₁  ẍ̇₂]"
      ]
     },
     "execution_count": 2,
     "metadata": {},
     "output_type": "execute_result"
    }
   ],
   "source": [
    "# create state vector with 4 components and derivatives up to order 2\n",
    "# and make available in global namespace\n",
    "xx = gen_state(2,3)\n",
    "xx.T"
   ]
  },
  {
   "cell_type": "markdown",
   "metadata": {},
   "source": [
    "Matrix to investigate:\n",
    "\n",
    "$\\mathbf{A}(\\lambda)=%\\mathbf{A}_0+\\mathbf{A}_1\\lambda=\n",
    "\\begin{pmatrix}\n",
    "    -\\dot{x}_2\\lambda & -\\dot{x}_1\\lambda & \\lambda\\\\\n",
    "    \\dot{x}_2 & 0 & -1\\\\\n",
    "    0 & 1 & 0\n",
    "\\end{pmatrix}\n",
    "=\n",
    "\\underbrace{\n",
    "\\begin{pmatrix}\n",
    "    0 & 0 & 0\\\\\n",
    "    \\dot{x}_2 & 0 & -1\\\\\n",
    "    0 & 1 & 0\n",
    "\\end{pmatrix}}_{=\\mathbf{A}_0}\n",
    "+\n",
    "\\underbrace{\n",
    "\\begin{pmatrix}\n",
    "    -\\dot{x}_2 & -\\dot{x}_1 & 0\\\\\n",
    "    0 & 0 & 0\\\\\n",
    "    0 & 0 & 0\n",
    "\\end{pmatrix}}_{=\\mathbf{A}_1}\\lambda\n",
    "$"
   ]
  },
  {
   "cell_type": "code",
   "execution_count": 3,
   "metadata": {},
   "outputs": [
    {
     "data": {
      "text/latex": [
       "$$\\left ( \\left[\\begin{matrix}0 & 0 & 0\\\\\\dot{x}_{2} & 0 & -1\\\\0 & 1 & 0\\end{matrix}\\right], \\quad \\left[\\begin{matrix}- \\dot{x}_{2} & - \\dot{x}_{1} & 1\\\\0 & 0 & 0\\\\0 & 0 & 0\\end{matrix}\\right]\\right )$$"
      ],
      "text/plain": [
       "⎛⎡ 0   0  0 ⎤, ⎡-ẋ₂  -ẋ₁  1⎤⎞\n",
       "⎜⎢          ⎥  ⎢             ⎥⎟\n",
       "⎜⎢ẋ₂  0  -1⎥  ⎢ 0     0    0⎥⎟\n",
       "⎜⎢          ⎥  ⎢             ⎥⎟\n",
       "⎝⎣ 0   1  0 ⎦  ⎣ 0     0    0⎦⎠"
      ]
     },
     "execution_count": 3,
     "metadata": {},
     "output_type": "execute_result"
    }
   ],
   "source": [
    "A0 = sp.Matrix([\n",
    "    [0,0,0],\n",
    "    [xdot2,0,-1],\n",
    "    [0,1,0]])\n",
    "A1 = sp.Matrix([\n",
    "    [-xdot2,-xdot1,1],\n",
    "    [0,0,0],\n",
    "    [0,0,0]])\n",
    "A0,A1"
   ]
  },
  {
   "cell_type": "code",
   "execution_count": 4,
   "metadata": {
    "collapsed": true
   },
   "outputs": [],
   "source": [
    "# manually:\n",
    "# st.rnd_number_rank(spread(A0,A1,beta=0)) \\\n",
    "# == st.rnd_number_rank(spread_aug(A0,A1,beta=0)) \\\n",
    "# and st.rnd_number_rank(spread(A0,A1,beta=0)) == spread(A0,A1,beta=0).shape[0]"
   ]
  },
  {
   "cell_type": "code",
   "execution_count": 5,
   "metadata": {
    "collapsed": true
   },
   "outputs": [],
   "source": [
    "# st.rnd_number_rank(spread(A0,A1,beta=1)) \\\n",
    "# == st.rnd_number_rank(spread_aug(A0,A1,beta=1)) \\\n",
    "# and st.rnd_number_rank(spread(A0,A1,beta=1)) == spread(A0,A1,beta=1).shape[0]"
   ]
  },
  {
   "cell_type": "code",
   "execution_count": 6,
   "metadata": {},
   "outputs": [
    {
     "name": "stdout",
     "output_type": "stream",
     "text": [
      "A is unimodular\n"
     ]
    }
   ],
   "source": [
    "# automated:\n",
    "# returns degree beta of inverse (-1 => not unimodular)\n",
    "beta_ = is_unimodular(A0,A1)\n",
    "if (beta_==-1):\n",
    "    print(\"A is not unimodular\")\n",
    "else:\n",
    "    print(\"A is unimodular\")"
   ]
  },
  {
   "cell_type": "code",
   "execution_count": 8,
   "metadata": {},
   "outputs": [
    {
     "data": {
      "text/latex": [
       "$$\\left[\\begin{matrix}0 & 0 & 0 & - 1.0 \\dot{x}_{2} & - 1.0 \\dot{x}_{1} & 1.0 & 0 & 0 & 0\\\\1.0 \\dot{x}_{2} & 0 & -1.0 & 0 & 0 & 0 & 0 & 0 & 0\\\\0 & 1.0 & 0 & 0 & 0 & 0 & 0 & 0 & 0\\\\0 & 0 & 0 & - 1.0 \\ddot{x}_{2} & - 1.0 \\ddot{x}_{1} & 0 & - 1.0 \\dot{x}_{2} & - 1.0 \\dot{x}_{1} & 1.0\\\\1.0 \\ddot{x}_{2} & 0 & 0 & 1.0 \\dot{x}_{2} & 0 & -1.0 & 0 & 0 & 0\\\\0 & 0 & 0 & 0 & 1.0 & 0 & 0 & 0 & 0\\end{matrix}\\right]$$"
      ],
      "text/plain": [
       "⎡   0      0    0    -1.0⋅ẋ₂  -1.0⋅ẋ₁  1.0      0         0       0 ⎤\n",
       "⎢                                                                     ⎥\n",
       "⎢1.0⋅ẋ₂   0   -1.0     0         0       0       0         0       0 ⎥\n",
       "⎢                                                                     ⎥\n",
       "⎢   0     1.0   0       0         0       0       0         0       0 ⎥\n",
       "⎢                                                                     ⎥\n",
       "⎢   0      0    0    -1.0⋅ẍ₂  -1.0⋅ẍ₁   0    -1.0⋅ẋ₂  -1.0⋅ẋ₁  1.0⎥\n",
       "⎢                                                                     ⎥\n",
       "⎢1.0⋅ẍ₂   0    0    1.0⋅ẋ₂      0      -1.0     0         0       0 ⎥\n",
       "⎢                                                                     ⎥\n",
       "⎣   0      0    0       0        1.0      0       0         0       0 ⎦"
      ]
     },
     "execution_count": 8,
     "metadata": {},
     "output_type": "execute_result"
    }
   ],
   "source": [
    "sA1 = Top(A0,A1,beta=beta_)\n",
    "sA1"
   ]
  },
  {
   "cell_type": "code",
   "execution_count": 9,
   "metadata": {},
   "outputs": [
    {
     "data": {
      "text/latex": [
       "$$\\left[\\begin{matrix}\\frac{1.0}{\\ddot{x}_{2}} & 0 & 0 & 0 & \\frac{1.0}{\\ddot{x}_{2}} & \\frac{1.0 \\dot{x}_{1}}{\\ddot{x}_{2}}\\\\0 & 0 & 1.0 & 0 & 0 & 0\\\\\\frac{1.0 \\dot{x}_{2}}{\\ddot{x}_{2}} & -1.0 & 0 & 0 & \\frac{1.0 \\dot{x}_{2}}{\\ddot{x}_{2}} & \\frac{1.0 \\dot{x}_{1}}{\\ddot{x}_{2}} \\dot{x}_{2}\\\\0 & 0 & 0 & 0 & 0 & 0\\\\0 & 0 & 0 & 0 & 0 & 1.0\\\\1.0 & 0 & 0 & 0 & 0 & 1.0 \\dot{x}_{1}\\\\0 & 0 & 0 & 0 & 0 & 0\\\\0 & 0 & 0 & 0 & 0 & 0\\\\0 & 0 & 0 & 1.0 & 0 & 1.0 \\ddot{x}_{1}\\end{matrix}\\right]$$"
      ],
      "text/plain": [
       "⎡  1.0                      1.0      1.0⋅ẋ₁  ⎤\n",
       "⎢  ───     0     0    0     ───      ───────  ⎥\n",
       "⎢  ẍ₂                      ẍ₂        ẍ₂    ⎥\n",
       "⎢                                             ⎥\n",
       "⎢   0      0    1.0   0      0          0     ⎥\n",
       "⎢                                             ⎥\n",
       "⎢1.0⋅ẋ₂                  1.0⋅ẋ₂  1.0⋅ẋ₁⋅ẋ₂⎥\n",
       "⎢───────  -1.0   0    0   ───────  ───────────⎥\n",
       "⎢  ẍ₂                      ẍ₂        ẍ₂    ⎥\n",
       "⎢                                             ⎥\n",
       "⎢   0      0     0    0      0          0     ⎥\n",
       "⎢                                             ⎥\n",
       "⎢   0      0     0    0      0         1.0    ⎥\n",
       "⎢                                             ⎥\n",
       "⎢  1.0     0     0    0      0       1.0⋅ẋ₁  ⎥\n",
       "⎢                                             ⎥\n",
       "⎢   0      0     0    0      0          0     ⎥\n",
       "⎢                                             ⎥\n",
       "⎢   0      0     0    0      0          0     ⎥\n",
       "⎢                                             ⎥\n",
       "⎣   0      0     0   1.0     0       1.0⋅ẍ₁  ⎦"
      ]
     },
     "execution_count": 9,
     "metadata": {},
     "output_type": "execute_result"
    }
   ],
   "source": [
    "sA1_rpinv = sp.simplify(right_pseudo_inverse(sA1))\n",
    "sA1_rpinv"
   ]
  },
  {
   "cell_type": "code",
   "execution_count": 10,
   "metadata": {},
   "outputs": [
    {
     "data": {
      "text/latex": [
       "$$\\left[\\begin{matrix}\\frac{1.0}{\\ddot{x}_{2}} & 0 & 0 & 0 & \\frac{1.0}{\\ddot{x}_{2}} & \\frac{1.0 \\dot{x}_{1}}{\\ddot{x}_{2}}\\\\0 & 0 & 1.0 & 0 & 0 & 0\\\\\\frac{1.0 \\dot{x}_{2}}{\\ddot{x}_{2}} & -1.0 & 0 & 0 & \\frac{1.0 \\dot{x}_{2}}{\\ddot{x}_{2}} & \\frac{1.0 \\dot{x}_{1}}{\\ddot{x}_{2}} \\dot{x}_{2}\\end{matrix}\\right]$$"
      ],
      "text/plain": [
       "⎡  1.0                    1.0      1.0⋅ẋ₁  ⎤\n",
       "⎢  ───     0     0   0    ───      ───────  ⎥\n",
       "⎢  ẍ₂                    ẍ₂        ẍ₂    ⎥\n",
       "⎢                                           ⎥\n",
       "⎢   0      0    1.0  0     0          0     ⎥\n",
       "⎢                                           ⎥\n",
       "⎢1.0⋅ẋ₂                1.0⋅ẋ₂  1.0⋅ẋ₁⋅ẋ₂⎥\n",
       "⎢───────  -1.0   0   0  ───────  ───────────⎥\n",
       "⎣  ẍ₂                    ẍ₂        ẍ₂    ⎦"
      ]
     },
     "execution_count": 10,
     "metadata": {},
     "output_type": "execute_result"
    }
   ],
   "source": [
    "I, O = sp.eye(3), sp.zeros(3,6)\n",
    "IO = st.col_stack(I,O)\n",
    "B_ = IO*sA1_rpinv\n",
    "B_"
   ]
  },
  {
   "cell_type": "code",
   "execution_count": 11,
   "metadata": {},
   "outputs": [
    {
     "data": {
      "text/latex": [
       "$$\\left ( \\left[\\begin{matrix}\\frac{1.0}{\\ddot{x}_{2}} & 0 & 0\\\\0 & 0 & 1.0\\\\\\frac{1.0 \\dot{x}_{2}}{\\ddot{x}_{2}} & -1.0 & 0\\end{matrix}\\right], \\quad \\left[\\begin{matrix}0 & \\frac{1.0}{\\ddot{x}_{2}} & \\frac{1.0 \\dot{x}_{1}}{\\ddot{x}_{2}}\\\\0 & 0 & 0\\\\0 & \\frac{1.0 \\dot{x}_{2}}{\\ddot{x}_{2}} & \\frac{1.0 \\dot{x}_{1}}{\\ddot{x}_{2}} \\dot{x}_{2}\\end{matrix}\\right]\\right )$$"
      ],
      "text/plain": [
       "⎛⎡  1.0             ⎤  ⎡     1.0      1.0⋅ẋ₁  ⎤⎞\n",
       "⎜⎢  ───     0     0 ⎥, ⎢0    ───      ───────  ⎥⎟\n",
       "⎜⎢  ẍ₂             ⎥  ⎢     ẍ₂        ẍ₂    ⎥⎟\n",
       "⎜⎢                  ⎥  ⎢                       ⎥⎟\n",
       "⎜⎢   0      0    1.0⎥  ⎢0     0          0     ⎥⎟\n",
       "⎜⎢                  ⎥  ⎢                       ⎥⎟\n",
       "⎜⎢1.0⋅ẋ₂           ⎥  ⎢   1.0⋅ẋ₂  1.0⋅ẋ₁⋅ẋ₂⎥⎟\n",
       "⎜⎢───────  -1.0   0 ⎥  ⎢0  ───────  ───────────⎥⎟\n",
       "⎝⎣  ẍ₂             ⎦  ⎣     ẍ₂        ẍ₂    ⎦⎠"
      ]
     },
     "execution_count": 11,
     "metadata": {},
     "output_type": "execute_result"
    }
   ],
   "source": [
    "B0 = st.col_select(B_, 0,1,2)\n",
    "B1 = st.col_select(B_, 3,4,5)\n",
    "B0, B1 # B0+B1*s"
   ]
  },
  {
   "cell_type": "markdown",
   "metadata": {},
   "source": [
    "Unimodular Inverse of $\\mathbf{A}(\\lambda):$\n",
    "\n",
    "$\\mathbf{B}(\\lambda)\n",
    "=\\mathbf{B}_0+\\mathbf{B}_1\\lambda\n",
    "=\n",
    "\\begin{pmatrix}\n",
    "    \\frac{1}{\\ddot{x}_2} & \\frac{1}{\\ddot{x}_2}\\lambda & \\frac{\\dot{x}_1}{\\ddot{x}_2}\\lambda\\\\\n",
    "    0 & 0 & 1\\\\\n",
    "    \\frac{\\dot{x}_2}{\\ddot{x}_2} & \\frac{\\dot{x}_2}{\\ddot{x}_2}\\lambda-1 & \\frac{\\dot{x}_1\\dot{x}_2}{\\ddot{x}_2}\\lambda\n",
    "\\end{pmatrix}\n",
    "$"
   ]
  }
 ],
 "metadata": {
  "kernelspec": {
   "display_name": "Python 3",
   "language": "python",
   "name": "python3"
  },
  "language_info": {
   "codemirror_mode": {
    "name": "ipython",
    "version": 3
   },
   "file_extension": ".py",
   "mimetype": "text/x-python",
   "name": "python",
   "nbconvert_exporter": "python",
   "pygments_lexer": "ipython3",
   "version": "3.6.2"
  }
 },
 "nbformat": 4,
 "nbformat_minor": 2
}
