{
 "cells": [
  {
   "cell_type": "code",
   "execution_count": 1,
   "metadata": {},
   "outputs": [],
   "source": [
    "from hypore import *"
   ]
  },
  {
   "cell_type": "code",
   "execution_count": 2,
   "metadata": {},
   "outputs": [
    {
     "data": {
      "text/latex": [
       "$$\\left[\\begin{matrix}x_{1} & x_{2} & \\dot{x}_{1} & \\dot{x}_{2} & \\ddot{x}_{1} & \\ddot{x}_{2} & \\dddot{x}_{1} & \\dddot{x}_{2}\\end{matrix}\\right]$$"
      ],
      "text/plain": [
       "[x₁  x₂  ẋ₁  ẋ₂  ẍ₁  ẍ₂  ẍ̇₁  ẍ̇₂]"
      ]
     },
     "execution_count": 2,
     "metadata": {},
     "output_type": "execute_result"
    }
   ],
   "source": [
    "# create state vector with 4 components and derivatives up to order 2\n",
    "# and make available in global namespace\n",
    "xx = gen_state(2,3)\n",
    "xx.T"
   ]
  },
  {
   "cell_type": "code",
   "execution_count": 3,
   "metadata": {},
   "outputs": [
    {
     "data": {
      "text/latex": [
       "$$\\left ( \\left[\\begin{matrix}1 & \\dot{x}_{1}\\\\x_{2} & x_{1} x_{2}\\end{matrix}\\right], \\quad \\left[\\begin{matrix}1 & x_{1}\\\\x_{2} & 0\\end{matrix}\\right], \\quad \\left[\\begin{matrix}1 & 0\\\\0 & 0\\end{matrix}\\right]\\right )$$"
      ],
      "text/plain": [
       "⎛⎡1    ẋ₁ ⎤, ⎡1   x₁⎤, ⎡1  0⎤⎞\n",
       "⎜⎢         ⎥  ⎢      ⎥  ⎢    ⎥⎟\n",
       "⎝⎣x₂  x₁⋅x₂⎦  ⎣x₂  0 ⎦  ⎣0  0⎦⎠"
      ]
     },
     "execution_count": 3,
     "metadata": {},
     "output_type": "execute_result"
    }
   ],
   "source": [
    "A0 = sp.Matrix([\n",
    "    [1,xdot1],\n",
    "    [x2,x1*x2]])\n",
    "A1 = sp.Matrix([\n",
    "    [1,x1],\n",
    "    [x2,0]])\n",
    "A2 = sp.Matrix([\n",
    "    [1,0],\n",
    "    [0,0]])\n",
    "A0,A1,A2 # A(d/dt) = A0 + A1*d/dt + A2*(d/dt)**2"
   ]
  },
  {
   "cell_type": "code",
   "execution_count": 4,
   "metadata": {
    "collapsed": true
   },
   "outputs": [],
   "source": [
    "# manually:\n",
    "# st.rnd_number_rank(spread(A0,A1,beta=0)) \\\n",
    "# == st.rnd_number_rank(spread_aug(A0,A1,beta=0)) \\\n",
    "# and st.rnd_number_rank(spread(A0,A1,beta=0)) == spread(A0,A1,beta=0).shape[0]"
   ]
  },
  {
   "cell_type": "code",
   "execution_count": 5,
   "metadata": {
    "collapsed": true
   },
   "outputs": [],
   "source": [
    "# st.rnd_number_rank(spread(A0,A1,beta=1)) \\\n",
    "# == st.rnd_number_rank(spread_aug(A0,A1,beta=1)) \\\n",
    "# and st.rnd_number_rank(spread(A0,A1,beta=1)) == spread(A0,A1,beta=1).shape[0]"
   ]
  },
  {
   "cell_type": "code",
   "execution_count": 6,
   "metadata": {
    "collapsed": true
   },
   "outputs": [],
   "source": [
    "# st.rnd_number_rank(spread(A0,A1,beta=2)) \\\n",
    "# == st.rnd_number_rank(spread_aug(A0,A1,beta=2)) \\\n",
    "# and st.rnd_number_rank(spread(A0,A1,beta=2)) == spread(A0,A1,beta=2).shape[0]"
   ]
  },
  {
   "cell_type": "code",
   "execution_count": 7,
   "metadata": {},
   "outputs": [
    {
     "name": "stdout",
     "output_type": "stream",
     "text": [
      "A is unimodular\n"
     ]
    }
   ],
   "source": [
    "# automated:\n",
    "# returns degree beta of inverse (-1 => not unimodular)\n",
    "beta_ = is_unimodular(A0,A1,A2)\n",
    "if (beta_==-1):\n",
    "    print(\"A is not unimodular\")\n",
    "else:\n",
    "    print(\"A is unimodular\")"
   ]
  },
  {
   "cell_type": "code",
   "execution_count": 8,
   "metadata": {},
   "outputs": [
    {
     "data": {
      "text/latex": [
       "$$2$$"
      ],
      "text/plain": [
       "2"
      ]
     },
     "execution_count": 8,
     "metadata": {},
     "output_type": "execute_result"
    }
   ],
   "source": [
    "beta_"
   ]
  },
  {
   "cell_type": "code",
   "execution_count": 9,
   "metadata": {},
   "outputs": [
    {
     "data": {
      "text/latex": [
       "$$\\left[\\begin{matrix}1.0 & 1.0 \\dot{x}_{1} & 1.0 & 1.0 x_{1} & 1.0 & 0 & 0 & 0 & 0 & 0\\\\1.0 x_{2} & 1.0 x_{1} x_{2} & 1.0 x_{2} & 0 & 0 & 0 & 0 & 0 & 0 & 0\\\\0 & 1.0 \\ddot{x}_{1} & 1.0 & 2.0 \\dot{x}_{1} & 1.0 & 1.0 x_{1} & 1.0 & 0 & 0 & 0\\\\1.0 \\dot{x}_{2} & 1.0 x_{1} \\dot{x}_{2} + 1.0 x_{2} \\dot{x}_{1} & 1.0 x_{2} + 1.0 \\dot{x}_{2} & 1.0 x_{1} x_{2} & 1.0 x_{2} & 0 & 0 & 0 & 0 & 0\\\\0 & 1.0 \\dddot{x}_{1} & 0 & 3.0 \\ddot{x}_{1} & 1.0 & 3.0 \\dot{x}_{1} & 1.0 & 1.0 x_{1} & 1.0 & 0\\\\1.0 \\ddot{x}_{2} & 1.0 x_{1} \\ddot{x}_{2} + 1.0 x_{2} \\ddot{x}_{1} + 2.0 \\dot{x}_{1} \\dot{x}_{2} & 1.0 \\ddot{x}_{2} + 2.0 \\dot{x}_{2} & 2.0 x_{1} \\dot{x}_{2} + 2.0 x_{2} \\dot{x}_{1} & 1.0 x_{2} + 2.0 \\dot{x}_{2} & 1.0 x_{1} x_{2} & 1.0 x_{2} & 0 & 0 & 0\\end{matrix}\\right]$$"
      ],
      "text/plain": [
       "⎡  1.0                   1.0⋅ẋ₁                        1.0                 1.\n",
       "⎢                                                                             \n",
       "⎢1.0⋅x₂                 1.0⋅x₁⋅x₂                     1.0⋅x₂                  \n",
       "⎢                                                                             \n",
       "⎢   0                    1.0⋅ẍ₁                        1.0                 2.\n",
       "⎢                                                                             \n",
       "⎢1.0⋅ẋ₂         1.0⋅x₁⋅ẋ₂ + 1.0⋅x₂⋅ẋ₁         1.0⋅x₂ + 1.0⋅ẋ₂          1.0\n",
       "⎢                                                                             \n",
       "⎢   0                   1.0⋅ẍ̇₁                         0                  3.\n",
       "⎢                                                                             \n",
       "⎣1.0⋅ẍ₂  1.0⋅x₁⋅ẍ₂ + 1.0⋅x₂⋅ẍ₁ + 2.0⋅ẋ₁⋅ẋ₂  1.0⋅ẍ₂ + 2.0⋅ẋ₂  2.0⋅x₁⋅ẋ₂\n",
       "\n",
       "0⋅x₁                 1.0             0        0       0      0   0⎤\n",
       "                                                                  ⎥\n",
       " 0                    0              0        0       0      0   0⎥\n",
       "                                                                  ⎥\n",
       "0⋅ẋ₁                1.0          1.0⋅x₁     1.0      0      0   0⎥\n",
       "                                                                  ⎥\n",
       "⋅x₁⋅x₂              1.0⋅x₂           0        0       0      0   0⎥\n",
       "                                                                  ⎥\n",
       "0⋅ẍ₁                1.0          3.0⋅ẋ₁    1.0    1.0⋅x₁  1.0  0⎥\n",
       "                                                                  ⎥\n",
       " + 2.0⋅x₂⋅ẋ₁  1.0⋅x₂ + 2.0⋅ẋ₂  1.0⋅x₁⋅x₂  1.0⋅x₂    0      0   0⎦"
      ]
     },
     "execution_count": 9,
     "metadata": {},
     "output_type": "execute_result"
    }
   ],
   "source": [
    "sA2 = Top(A0,A1,A2,beta=beta_)\n",
    "sA2"
   ]
  },
  {
   "cell_type": "code",
   "execution_count": 10,
   "metadata": {},
   "outputs": [
    {
     "data": {
      "text/latex": [
       "$$\\left ( 10, \\quad 6\\right )$$"
      ],
      "text/plain": [
       "(10, 6)"
      ]
     },
     "execution_count": 10,
     "metadata": {},
     "output_type": "execute_result"
    }
   ],
   "source": [
    "sA2_rpinv = right_pseudo_inverse(sA2)\n",
    "sA2_rpinv.shape"
   ]
  },
  {
   "cell_type": "code",
   "execution_count": 11,
   "metadata": {
    "collapsed": true
   },
   "outputs": [],
   "source": [
    "I, O = sp.eye(2), sp.zeros(2,8)\n",
    "IO = st.col_stack(I,O)\n",
    "B_ = IO*sA2_rpinv\n",
    "B_ = sp.simplify(B_)"
   ]
  },
  {
   "cell_type": "code",
   "execution_count": 12,
   "metadata": {},
   "outputs": [
    {
     "data": {
      "text/latex": [
       "$$\\left[\\begin{matrix}1.0 & \\frac{1.0 \\dot{x}_{2}}{x_{2}^{2}} & 0 & - \\frac{1.0}{x_{2}} & 0 & 0\\\\- \\frac{1.0}{x_{1}} & \\frac{1}{x_{1} x_{2}^{3}} \\left(1.0 x_{2}^{2} - 1.0 x_{2} \\ddot{x}_{2} - 1.0 x_{2} \\dot{x}_{2} + 2.0 \\dot{x}_{2}^{2}\\right) & - \\frac{1.0}{x_{1}} & \\frac{1}{x_{1} x_{2}^{2}} \\left(1.0 x_{2} - 2.0 \\dot{x}_{2}\\right) & 0 & \\frac{1.0}{x_{1} x_{2}}\\end{matrix}\\right]$$"
      ],
      "text/plain": [
       "⎡                            1.0⋅ẋ₂                                       -1.\n",
       "⎢ 1.0                        ───────                          0            ───\n",
       "⎢                                2                                           x\n",
       "⎢                              x₂                                             \n",
       "⎢                                                                             \n",
       "⎢           ⎛      2                                    2⎞                    \n",
       "⎢-1.0   1.0⋅⎝1.0⋅x₂  - 1.0⋅x₂⋅ẍ₂ - 1.0⋅x₂⋅ẋ₂ + 2.0⋅ẋ₂ ⎠  -1.0   1.0⋅(1.0⋅x₂\n",
       "⎢─────  ──────────────────────────────────────────────────  ─────  ───────────\n",
       "⎢  x₁                              3                          x₁              \n",
       "⎣                             x₁⋅x₂                                        x₁⋅\n",
       "\n",
       "0                    ⎤\n",
       "──           0    0  ⎥\n",
       "₂                    ⎥\n",
       "                     ⎥\n",
       "                     ⎥\n",
       "                     ⎥\n",
       " - 2.0⋅ẋ₂)      1.0 ⎥\n",
       "───────────  0  ─────⎥\n",
       "  2             x₁⋅x₂⎥\n",
       "x₂                   ⎦"
      ]
     },
     "execution_count": 12,
     "metadata": {},
     "output_type": "execute_result"
    }
   ],
   "source": [
    "B_"
   ]
  },
  {
   "cell_type": "code",
   "execution_count": 13,
   "metadata": {},
   "outputs": [
    {
     "data": {
      "text/latex": [
       "$$\\left ( 2, \\quad 6\\right )$$"
      ],
      "text/plain": [
       "(2, 6)"
      ]
     },
     "execution_count": 13,
     "metadata": {},
     "output_type": "execute_result"
    }
   ],
   "source": [
    "B_.shape"
   ]
  },
  {
   "cell_type": "code",
   "execution_count": 14,
   "metadata": {},
   "outputs": [
    {
     "data": {
      "text/latex": [
       "$$\\left ( \\left[\\begin{matrix}1.0 & \\frac{1.0 \\dot{x}_{2}}{x_{2}^{2}}\\\\- \\frac{1.0}{x_{1}} & \\frac{1}{x_{1} x_{2}^{3}} \\left(1.0 x_{2}^{2} - 1.0 x_{2} \\ddot{x}_{2} - 1.0 x_{2} \\dot{x}_{2} + 2.0 \\dot{x}_{2}^{2}\\right)\\end{matrix}\\right], \\quad \\left[\\begin{matrix}0 & - \\frac{1.0}{x_{2}}\\\\- \\frac{1.0}{x_{1}} & \\frac{1}{x_{1} x_{2}^{2}} \\left(1.0 x_{2} - 2.0 \\dot{x}_{2}\\right)\\end{matrix}\\right], \\quad \\left[\\begin{matrix}0 & 0\\\\0 & \\frac{1.0}{x_{1} x_{2}}\\end{matrix}\\right]\\right )$$"
      ],
      "text/plain": [
       "⎛⎡                            1.0⋅ẋ₂                      ⎤  ⎡               \n",
       "⎜⎢ 1.0                        ───────                      ⎥, ⎢  0            \n",
       "⎜⎢                                2                        ⎥  ⎢               \n",
       "⎜⎢                              x₂                         ⎥  ⎢               \n",
       "⎜⎢                                                         ⎥  ⎢-1.0   1.0⋅(1.0\n",
       "⎜⎢           ⎛      2                                    2⎞⎥  ⎢─────  ────────\n",
       "⎜⎢-1.0   1.0⋅⎝1.0⋅x₂  - 1.0⋅x₂⋅ẍ₂ - 1.0⋅x₂⋅ẋ₂ + 2.0⋅ẋ₂ ⎠⎥  ⎢  x₁           \n",
       "⎜⎢─────  ──────────────────────────────────────────────────⎥  ⎣               \n",
       "⎜⎢  x₁                              3                      ⎥                  \n",
       "⎝⎣                             x₁⋅x₂                       ⎦                  \n",
       "\n",
       "-1.0          ⎤            ⎞\n",
       "─────         ⎥, ⎡0    0  ⎤⎟\n",
       "  x₂          ⎥  ⎢        ⎥⎟\n",
       "              ⎥  ⎢    1.0 ⎥⎟\n",
       "⋅x₂ - 2.0⋅ẋ₂)⎥  ⎢0  ─────⎥⎟\n",
       "──────────────⎥  ⎣   x₁⋅x₂⎦⎟\n",
       "     2        ⎥            ⎟\n",
       "x₁⋅x₂         ⎦            ⎟\n",
       "                           ⎟\n",
       "                           ⎠"
      ]
     },
     "execution_count": 14,
     "metadata": {},
     "output_type": "execute_result"
    }
   ],
   "source": [
    "B0 = st.col_select(B_, 0,1)\n",
    "B1 = st.col_select(B_, 2,3)\n",
    "B2 = st.col_select(B_, 4,5)\n",
    "# unimodular inverse of A(d/dt):\n",
    "B0, B1, B2 # B(d/dt) = B0 + B1*d/dt + B2*(d/dt)**2"
   ]
  }
 ],
 "metadata": {
  "kernelspec": {
   "display_name": "Python 3",
   "language": "python",
   "name": "python3"
  },
  "language_info": {
   "codemirror_mode": {
    "name": "ipython",
    "version": 3
   },
   "file_extension": ".py",
   "mimetype": "text/x-python",
   "name": "python",
   "nbconvert_exporter": "python",
   "pygments_lexer": "ipython3",
   "version": "3.6.2"
  }
 },
 "nbformat": 4,
 "nbformat_minor": 2
}
