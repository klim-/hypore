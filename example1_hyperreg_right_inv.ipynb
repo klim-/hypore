{
 "cells": [
  {
   "cell_type": "code",
   "execution_count": 2,
   "metadata": {
    "collapsed": true
   },
   "outputs": [],
   "source": [
    "from hypore import *"
   ]
  },
  {
   "cell_type": "code",
   "execution_count": 3,
   "metadata": {},
   "outputs": [
    {
     "data": {
      "text/latex": [
       "$$\\left[\\begin{matrix}x_{1} & \\dot{x}_{1} & \\ddot{x}_{1}\\end{matrix}\\right]$$"
      ],
      "text/plain": [
       "[x₁  ẋ₁  ẍ₁]"
      ]
     },
     "execution_count": 3,
     "metadata": {},
     "output_type": "execute_result"
    }
   ],
   "source": [
    "# create state vector with 4 components and derivatives up to order 2\n",
    "# and make available in global namespace\n",
    "xx = gen_state(1,2)\n",
    "xx.T"
   ]
  },
  {
   "cell_type": "code",
   "execution_count": 4,
   "metadata": {},
   "outputs": [
    {
     "data": {
      "text/latex": [
       "$$\\left ( \\left[\\begin{matrix}1 & \\dot{x}_{1}\\end{matrix}\\right], \\quad \\left[\\begin{matrix}1 & x_{1}\\end{matrix}\\right], \\quad \\left[\\begin{matrix}1 & 0\\end{matrix}\\right]\\right )$$"
      ],
      "text/plain": [
       "([1  ẋ₁], [1  x₁], [1  0])"
      ]
     },
     "execution_count": 4,
     "metadata": {},
     "output_type": "execute_result"
    }
   ],
   "source": [
    "A0 = sp.Matrix([\n",
    "    [1,xdot1]])\n",
    "A1 = sp.Matrix([\n",
    "    [1,x1]])\n",
    "A2 = sp.Matrix([\n",
    "    [1,0]])\n",
    "A0,A1,A2 # A(d/dt) = A0 + A1*d/dt + A2*(d/dt)**2"
   ]
  },
  {
   "cell_type": "code",
   "execution_count": 5,
   "metadata": {
    "collapsed": true
   },
   "outputs": [],
   "source": [
    "# manually\n",
    "# HrA1 = Hright(A0,A1,A2,beta=1)\n",
    "# st.rnd_number_rank(HrA1)"
   ]
  },
  {
   "cell_type": "code",
   "execution_count": 6,
   "metadata": {},
   "outputs": [
    {
     "name": "stdout",
     "output_type": "stream",
     "text": [
      "A is right invertible\n"
     ]
    }
   ],
   "source": [
    "beta_ = is_rightinvertible(A0,A1,A2)\n",
    "if (beta_ != -1):\n",
    "    print(\"A is right invertible\")"
   ]
  },
  {
   "cell_type": "code",
   "execution_count": 7,
   "metadata": {},
   "outputs": [
    {
     "data": {
      "text/latex": [
       "$$1$$"
      ],
      "text/plain": [
       "1"
      ]
     },
     "execution_count": 7,
     "metadata": {},
     "output_type": "execute_result"
    }
   ],
   "source": [
    "beta_"
   ]
  },
  {
   "cell_type": "code",
   "execution_count": 8,
   "metadata": {
    "scrolled": true
   },
   "outputs": [
    {
     "data": {
      "text/latex": [
       "$$\\left[\\begin{matrix}1.0 & 0 & 0 & 0\\\\- \\frac{1}{x_{1}^{2}} \\left(1.0 x_{1} + 1.0 \\dot{x}_{1}\\right) & \\frac{1.0}{x_{1}} & \\frac{1.0 \\dot{x}_{1}}{x_{1}^{2}} & - \\frac{1}{x_{1}^{2}} \\left(1.0 x_{1} + 1.0 \\dot{x}_{1}\\right)\\\\0 & 0 & 0 & 1.0\\\\- \\frac{1.0}{x_{1}} & 0 & \\frac{1.0}{x_{1}} & - \\frac{1.0}{x_{1}}\\end{matrix}\\right]$$"
      ],
      "text/plain": [
       "⎡        1.0            0      0              0          ⎤\n",
       "⎢                                                        ⎥\n",
       "⎢-(1.0⋅x₁ + 1.0⋅ẋ₁)   1.0  1.0⋅ẋ₁  -(1.0⋅x₁ + 1.0⋅ẋ₁) ⎥\n",
       "⎢────────────────────  ───  ───────  ────────────────────⎥\n",
       "⎢          2            x₁      2              2         ⎥\n",
       "⎢        x₁                   x₁             x₁          ⎥\n",
       "⎢                                                        ⎥\n",
       "⎢         0             0      0             1.0         ⎥\n",
       "⎢                                                        ⎥\n",
       "⎢       -1.0                  1.0           -1.0         ⎥\n",
       "⎢       ─────           0     ───           ─────        ⎥\n",
       "⎣         x₁                   x₁             x₁         ⎦"
      ]
     },
     "execution_count": 8,
     "metadata": {},
     "output_type": "execute_result"
    }
   ],
   "source": [
    "HrA1 = Hright(A0,A1,A2,beta=beta_)\n",
    "HrA1inv = sp.simplify(HrA1.inv())\n",
    "HrA1inv"
   ]
  },
  {
   "cell_type": "code",
   "execution_count": 9,
   "metadata": {},
   "outputs": [
    {
     "data": {
      "text/latex": [
       "$$\\left[\\begin{matrix}1.0\\\\- \\frac{1}{x_{1}^{2}} \\left(1.0 x_{1} + 1.0 \\dot{x}_{1}\\right)\\\\0\\\\- \\frac{1.0}{x_{1}}\\end{matrix}\\right]$$"
      ],
      "text/plain": [
       "⎡        1.0         ⎤\n",
       "⎢                    ⎥\n",
       "⎢-(1.0⋅x₁ + 1.0⋅ẋ₁) ⎥\n",
       "⎢────────────────────⎥\n",
       "⎢          2         ⎥\n",
       "⎢        x₁          ⎥\n",
       "⎢                    ⎥\n",
       "⎢         0          ⎥\n",
       "⎢                    ⎥\n",
       "⎢       -1.0         ⎥\n",
       "⎢       ─────        ⎥\n",
       "⎣         x₁         ⎦"
      ]
     },
     "execution_count": 9,
     "metadata": {},
     "output_type": "execute_result"
    }
   ],
   "source": [
    "IO = sp.Matrix([1,0,0,0])\n",
    "B_ = HrA1inv*IO\n",
    "B_"
   ]
  },
  {
   "cell_type": "code",
   "execution_count": 10,
   "metadata": {},
   "outputs": [
    {
     "data": {
      "text/latex": [
       "$$\\left ( \\left[\\begin{matrix}1.0\\\\- \\frac{1}{x_{1}^{2}} \\left(1.0 x_{1} + 1.0 \\dot{x}_{1}\\right)\\end{matrix}\\right], \\quad \\left[\\begin{matrix}0\\\\- \\frac{1.0}{x_{1}}\\end{matrix}\\right]\\right )$$"
      ],
      "text/plain": [
       "⎛⎡        1.0         ⎤, ⎡  0  ⎤⎞\n",
       "⎜⎢                    ⎥  ⎢     ⎥⎟\n",
       "⎜⎢-(1.0⋅x₁ + 1.0⋅ẋ₁) ⎥  ⎢-1.0 ⎥⎟\n",
       "⎜⎢────────────────────⎥  ⎢─────⎥⎟\n",
       "⎜⎢          2         ⎥  ⎣  x₁ ⎦⎟\n",
       "⎝⎣        x₁          ⎦         ⎠"
      ]
     },
     "execution_count": 10,
     "metadata": {},
     "output_type": "execute_result"
    }
   ],
   "source": [
    "B0 = st.col_select(B_.T, 0,1).T\n",
    "B1 = st.col_select(B_.T, 2,3).T\n",
    "# hyper-regular right inverse of A(d/dt):\n",
    "B0, B1 # B(d/dt) = B0 + d/dt*B1"
   ]
  }
 ],
 "metadata": {
  "kernelspec": {
   "display_name": "Python 3",
   "language": "python",
   "name": "python3"
  },
  "language_info": {
   "codemirror_mode": {
    "name": "ipython",
    "version": 3
   },
   "file_extension": ".py",
   "mimetype": "text/x-python",
   "name": "python",
   "nbconvert_exporter": "python",
   "pygments_lexer": "ipython3",
   "version": "3.6.2"
  }
 },
 "nbformat": 4,
 "nbformat_minor": 2
}
