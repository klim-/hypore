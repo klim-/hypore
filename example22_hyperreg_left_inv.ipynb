{
 "cells": [
  {
   "cell_type": "code",
   "execution_count": 3,
   "metadata": {},
   "outputs": [],
   "source": [
    "from helpme import *"
   ]
  },
  {
   "cell_type": "code",
   "execution_count": 4,
   "metadata": {},
   "outputs": [
    {
     "data": {
      "text/latex": [
       "$$\\left[\\begin{matrix}x_{1} & x_{2} & \\dot{x}_{1} & \\dot{x}_{2} & \\ddot{x}_{1} & \\ddot{x}_{2}\\end{matrix}\\right]$$"
      ],
      "text/plain": [
       "[x₁  x₂  ẋ₁  ẋ₂  ẍ₁  ẍ₂]"
      ]
     },
     "execution_count": 4,
     "metadata": {},
     "output_type": "execute_result"
    }
   ],
   "source": [
    "# create state vector with 4 components and derivatives up to order 2\n",
    "# and make available in global namespace\n",
    "xx = gen_state(2,2)\n",
    "xx.T"
   ]
  },
  {
   "cell_type": "code",
   "execution_count": 5,
   "metadata": {},
   "outputs": [
    {
     "data": {
      "text/latex": [
       "$$\\left ( \\left[\\begin{matrix}1\\\\x_{2} - \\dot{x}_{2}\\end{matrix}\\right], \\quad \\left[\\begin{matrix}1\\\\x_{2}\\end{matrix}\\right], \\quad \\left[\\begin{matrix}1\\\\0\\end{matrix}\\right]\\right )$$"
      ],
      "text/plain": [
       "⎛⎡   1    ⎤, ⎡1 ⎤, ⎡1⎤⎞\n",
       "⎜⎢        ⎥  ⎢  ⎥  ⎢ ⎥⎟\n",
       "⎝⎣x₂ - ẋ₂⎦  ⎣x₂⎦  ⎣0⎦⎠"
      ]
     },
     "execution_count": 5,
     "metadata": {},
     "output_type": "execute_result"
    }
   ],
   "source": [
    "A0 = sp.Matrix([\n",
    "    [1],\n",
    "    [x2-xdot2]])\n",
    "A1 = sp.Matrix([\n",
    "    [1],\n",
    "    [x2]])\n",
    "A2 = sp.Matrix([\n",
    "    [1],\n",
    "    [0]])\n",
    "A0,A1,A2 # A0+s*A1+s**2*A2"
   ]
  },
  {
   "cell_type": "code",
   "execution_count": 9,
   "metadata": {},
   "outputs": [],
   "source": [
    "# manually\n",
    "# st.rnd_number_rank(Hleft(A0,A1,A2,beta=0)) == st.rnd_number_rank(Hleft_aug(A0,A1,A2,beta=0))"
   ]
  },
  {
   "cell_type": "code",
   "execution_count": 10,
   "metadata": {},
   "outputs": [],
   "source": [
    "# st.rnd_number_rank(Hleft(A0,A1,A2,beta=1)) == st.rnd_number_rank(Hleft_aug(A0,A1,A2,beta=1))"
   ]
  },
  {
   "cell_type": "code",
   "execution_count": 14,
   "metadata": {},
   "outputs": [
    {
     "name": "stdout",
     "output_type": "stream",
     "text": [
      "A is left invertible\n"
     ]
    }
   ],
   "source": [
    "beta_ = is_lefttinvertible(A0,A1,A2)\n",
    "if (beta_ != -1):\n",
    "    print(\"A is left invertible\")"
   ]
  },
  {
   "cell_type": "code",
   "execution_count": 16,
   "metadata": {},
   "outputs": [
    {
     "data": {
      "text/latex": [
       "$$1$$"
      ],
      "text/plain": [
       "1"
      ]
     },
     "execution_count": 16,
     "metadata": {},
     "output_type": "execute_result"
    }
   ],
   "source": [
    "beta_"
   ]
  },
  {
   "cell_type": "code",
   "execution_count": 17,
   "metadata": {},
   "outputs": [
    {
     "data": {
      "text/latex": [
       "$$\\left[\\begin{matrix}1.0 & 1.0 & 1.0 & 0\\\\1.0 x_{2} & 1.0 x_{2} & 0 & 0\\\\0 & 1.0 & 1.0 & 1.0\\\\1.0 \\dot{x}_{2} & 1.0 x_{2} + 1.0 \\dot{x}_{2} & 1.0 x_{2} & 0\\end{matrix}\\right]$$"
      ],
      "text/plain": [
       "⎡  1.0          1.0          1.0     0 ⎤\n",
       "⎢                                      ⎥\n",
       "⎢1.0⋅x₂        1.0⋅x₂         0      0 ⎥\n",
       "⎢                                      ⎥\n",
       "⎢   0           1.0          1.0    1.0⎥\n",
       "⎢                                      ⎥\n",
       "⎣1.0⋅ẋ₂  1.0⋅x₂ + 1.0⋅ẋ₂  1.0⋅x₂   0 ⎦"
      ]
     },
     "execution_count": 17,
     "metadata": {},
     "output_type": "execute_result"
    }
   ],
   "source": [
    "HlA1 = Hleft(A0,A1,A2,beta=beta_)\n",
    "HlA1"
   ]
  },
  {
   "cell_type": "code",
   "execution_count": 18,
   "metadata": {},
   "outputs": [
    {
     "data": {
      "text/latex": [
       "$$4$$"
      ],
      "text/plain": [
       "4"
      ]
     },
     "execution_count": 18,
     "metadata": {},
     "output_type": "execute_result"
    }
   ],
   "source": [
    "st.rnd_number_rank(HlA1)"
   ]
  },
  {
   "cell_type": "code",
   "execution_count": 19,
   "metadata": {},
   "outputs": [
    {
     "data": {
      "text/latex": [
       "$$\\left[\\begin{matrix}1.0 & \\frac{1.0 \\dot{x}_{2}}{x_{2}^{2}} & 0 & - \\frac{1.0}{x_{2}}\\\\-1.0 & \\frac{1}{x_{2}^{2}} \\left(1.0 x_{2} - 1.0 \\dot{x}_{2}\\right) & 0 & \\frac{1.0}{x_{2}}\\\\1.0 & - \\frac{1.0}{x_{2}} & 0 & 0\\\\0 & \\frac{1.0 \\dot{x}_{2}}{x_{2}^{2}} & 1.0 & - \\frac{1.0}{x_{2}}\\end{matrix}\\right]$$"
      ],
      "text/plain": [
       "⎡         1.0⋅ẋ₂           -1.0 ⎤\n",
       "⎢1.0      ───────       0   ─────⎥\n",
       "⎢             2               x₂ ⎥\n",
       "⎢           x₂                   ⎥\n",
       "⎢                                ⎥\n",
       "⎢      1.0⋅(x₂ - ẋ₂)        1.0 ⎥\n",
       "⎢-1.0  ──────────────   0    ─── ⎥\n",
       "⎢             2               x₂ ⎥\n",
       "⎢           x₂                   ⎥\n",
       "⎢                                ⎥\n",
       "⎢          -1.0                  ⎥\n",
       "⎢1.0       ─────        0     0  ⎥\n",
       "⎢            x₂                  ⎥\n",
       "⎢                                ⎥\n",
       "⎢         1.0⋅ẋ₂           -1.0 ⎥\n",
       "⎢ 0       ───────      1.0  ─────⎥\n",
       "⎢             2               x₂ ⎥\n",
       "⎣           x₂                   ⎦"
      ]
     },
     "execution_count": 19,
     "metadata": {},
     "output_type": "execute_result"
    }
   ],
   "source": [
    "HlA1inv = sp.simplify(HlA1.inv())\n",
    "HlA1inv"
   ]
  },
  {
   "cell_type": "code",
   "execution_count": 20,
   "metadata": {},
   "outputs": [
    {
     "data": {
      "text/latex": [
       "$$\\left[\\begin{matrix}1.0 & \\frac{1.0 \\dot{x}_{2}}{x_{2}^{2}} & 0 & - \\frac{1.0}{x_{2}}\\end{matrix}\\right]$$"
      ],
      "text/plain": [
       "⎡     1.0⋅ẋ₂     -1.0 ⎤\n",
       "⎢1.0  ───────  0  ─────⎥\n",
       "⎢         2         x₂ ⎥\n",
       "⎣       x₂             ⎦"
      ]
     },
     "execution_count": 20,
     "metadata": {},
     "output_type": "execute_result"
    }
   ],
   "source": [
    "IO = sp.Matrix([1,0,0,0]).T\n",
    "B_ = IO*HlA1inv\n",
    "B_"
   ]
  },
  {
   "cell_type": "code",
   "execution_count": 21,
   "metadata": {},
   "outputs": [
    {
     "data": {
      "text/latex": [
       "$$\\left ( \\left[\\begin{matrix}1.0 & \\frac{1.0 \\dot{x}_{2}}{x_{2}^{2}}\\end{matrix}\\right], \\quad \\left[\\begin{matrix}0 & - \\frac{1.0}{x_{2}}\\end{matrix}\\right]\\right )$$"
      ],
      "text/plain": [
       "⎛⎡     1.0⋅ẋ₂⎤  ⎡   -1.0 ⎤⎞\n",
       "⎜⎢1.0  ───────⎥, ⎢0  ─────⎥⎟\n",
       "⎜⎢         2  ⎥  ⎣     x₂ ⎦⎟\n",
       "⎝⎣       x₂   ⎦            ⎠"
      ]
     },
     "execution_count": 21,
     "metadata": {},
     "output_type": "execute_result"
    }
   ],
   "source": [
    "B0 = st.col_select(B_, 0,1)\n",
    "B1 = st.col_select(B_, 2,3)\n",
    "B0, B1 # B0+B1*s"
   ]
  }
 ],
 "metadata": {
  "kernelspec": {
   "display_name": "Python 3",
   "language": "python",
   "name": "python3"
  },
  "language_info": {
   "codemirror_mode": {
    "name": "ipython",
    "version": 3
   },
   "file_extension": ".py",
   "mimetype": "text/x-python",
   "name": "python",
   "nbconvert_exporter": "python",
   "pygments_lexer": "ipython3",
   "version": "3.6.2"
  }
 },
 "nbformat": 4,
 "nbformat_minor": 2
}
